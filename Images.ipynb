{
 "cells": [
  {
   "cell_type": "code",
   "execution_count": 3,
   "id": "358dc0f9",
   "metadata": {},
   "outputs": [],
   "source": [
    "import numpy as np\n",
    "from Couleurs import *"
   ]
  },
  {
   "cell_type": "code",
   "execution_count": 1,
   "id": "a454cba8",
   "metadata": {},
   "outputs": [],
   "source": [
    "def Fourrier(image) :\n",
    "    tf = np.fft.fftshift(np.fft.fft2(image))\n",
    "    return tf"
   ]
  },
  {
   "cell_type": "code",
   "execution_count": 6,
   "id": "dfd78a72",
   "metadata": {},
   "outputs": [],
   "source": [
    "def passe_bas(tf2, size_init, precision) :\n",
    "    dimx, dimy = size_init[0], size_init[1]\n",
    "    tf_c = np.copy(tf2)\n",
    "    mx = dimx//2\n",
    "    my = dimy//2\n",
    "    for l in range(dimx) :\n",
    "        if l<mx-mx/precision or l> mx + mx/precision:\n",
    "            tf_c[l, :] = 0\n",
    "    for c in range(dimy) :\n",
    "        if c<my-my/precision or c> my + my/precision:\n",
    "            tf_c[:, c] = 0\n",
    "    return tf_c\n",
    "\n",
    "def img_resize(image, precision) :\n",
    "    dimx, dimy = image.shape\n",
    "    new_tf = passe_bas(Fourrier(image), [dimx, dimy], precision)\n",
    "    new_image = np.real(np.fft.ifft2(np.fft.ifftshift(new_tf)))\n",
    "    dx, dy = image.shape\n",
    "    n_img = np.zeros((dx//precision, dy//precision))\n",
    "    for i in range(dx//precision) :\n",
    "        for k in range(dy//precision) :\n",
    "            n_img[i, k] = new_image[i*precision, k*precision]\n",
    "    return n_img\n",
    "\n",
    "def color_img_resize(image, precision) : \n",
    "    new_r = img_resize(image[:,:,0], precision)\n",
    "    new_b = img_resize(image[:,:,2], precision)\n",
    "    new_g = img_resize(image[:,:,1], precision)\n",
    "    return rgb_to_image(new_r, new_g, new_b)"
   ]
  },
  {
   "cell_type": "code",
   "execution_count": 5,
   "id": "24a261f1",
   "metadata": {},
   "outputs": [],
   "source": [
    "def passe_bas2(tf2, size_init, size) :\n",
    "    dimx, dimy = size_init[0], size_init[1]\n",
    "    mx = dimx//2\n",
    "    my = dimy//2\n",
    "    n_tf = tf2[mx-size[0]//2:mx + size[0]//2, my-size[1]//2:my + size[1]//2]\n",
    "    return n_tf\n",
    "\n",
    "def compress_resize(image, size) :\n",
    "    img = np.real(np.fft.ifft2(np.fft.ifftshift(passe_bas2(Fourrier(image), image.shape, size))))\n",
    "    img = img/(image.shape[0]*image.shape[1])\n",
    "    img = img*(img.shape[0]*img.shape[1])\n",
    "    return img\n",
    "\n",
    "def compressed_image(image, size) :\n",
    "    new_r2 = compress_resize(image[:,:,0], size)\n",
    "    new_b2 = compress_resize(image[:,:,2], size)\n",
    "    new_g2 = compress_resize(image[:,:,1], size)\n",
    "    return rgb_to_image(new_r2, new_g2, new_b2)"
   ]
  },
  {
   "cell_type": "code",
   "execution_count": null,
   "id": "76b44e8d",
   "metadata": {},
   "outputs": [],
   "source": [
    "def image_to_pixel(image) :\n",
    "    return image.reshape(1,image.shape[0]*image.shape[1], 3)[0]\n",
    "\n",
    "def pixel_to_image(pix, size) :\n",
    "    pix.resize(size)"
   ]
  }
 ],
 "metadata": {
  "kernelspec": {
   "display_name": "Python 3",
   "language": "python",
   "name": "python3"
  },
  "language_info": {
   "codemirror_mode": {
    "name": "ipython",
    "version": 3
   },
   "file_extension": ".py",
   "mimetype": "text/x-python",
   "name": "python",
   "nbconvert_exporter": "python",
   "pygments_lexer": "ipython3",
   "version": "3.8.8"
  }
 },
 "nbformat": 4,
 "nbformat_minor": 5
}
